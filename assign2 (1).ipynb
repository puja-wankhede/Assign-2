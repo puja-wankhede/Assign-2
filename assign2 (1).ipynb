{
 "cells": [
  {
   "cell_type": "code",
   "execution_count": 6,
   "id": "88b35e23",
   "metadata": {},
   "outputs": [
    {
     "name": "stdout",
     "output_type": "stream",
     "text": [
      ".\n",
      "..\n",
      "...\n",
      "....\n",
      ".....\n",
      "....\n",
      "...\n",
      "..\n",
      ".\n",
      "\n"
     ]
    }
   ],
   "source": [
    "n = 5 \n",
    "for i in range(n):\n",
    "    for j in range(i+1):\n",
    "        print(\".\",end=\"\")\n",
    "    print(\"\")\n",
    "for i in range(n,0,-1):\n",
    "    j=i\n",
    "    for jj in range(j-1,0,-1):\n",
    "        print(\".\", end=\"\")\n",
    "    print(\"\")    "
   ]
  },
  {
   "cell_type": "code",
   "execution_count": 9,
   "id": "662d0e4b",
   "metadata": {},
   "outputs": [
    {
     "name": "stdout",
     "output_type": "stream",
     "text": [
      "The original string is: ineuron\n",
      "The reverse string is: norueni \n"
     ]
    }
   ],
   "source": [
    "def reverse(str):\n",
    "    string = \" \"\n",
    "    for i in str:\n",
    "        string = i + string\n",
    "    return string \n",
    "str = \"ineuron\"\n",
    "print(\"The original string is:\",str)\n",
    "print(\"The reverse string is:\",reverse(str))"
   ]
  },
  {
   "cell_type": "code",
   "execution_count": null,
   "id": "81f62455",
   "metadata": {},
   "outputs": [],
   "source": []
  }
 ],
 "metadata": {
  "kernelspec": {
   "display_name": "Python 3",
   "language": "python",
   "name": "python3"
  },
  "language_info": {
   "codemirror_mode": {
    "name": "ipython",
    "version": 3
   },
   "file_extension": ".py",
   "mimetype": "text/x-python",
   "name": "python",
   "nbconvert_exporter": "python",
   "pygments_lexer": "ipython3",
   "version": "3.8.8"
  }
 },
 "nbformat": 4,
 "nbformat_minor": 5
}
